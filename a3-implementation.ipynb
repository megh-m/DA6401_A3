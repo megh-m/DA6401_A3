{
 "cells": [
  {
   "cell_type": "code",
   "execution_count": 1,
   "id": "171983e4",
   "metadata": {
    "execution": {
     "iopub.execute_input": "2025-05-03T14:25:13.104891Z",
     "iopub.status.busy": "2025-05-03T14:25:13.104464Z",
     "iopub.status.idle": "2025-05-03T14:25:16.750659Z",
     "shell.execute_reply": "2025-05-03T14:25:16.749689Z"
    },
    "papermill": {
     "duration": 3.651488,
     "end_time": "2025-05-03T14:25:16.752283",
     "exception": false,
     "start_time": "2025-05-03T14:25:13.100795",
     "status": "completed"
    },
    "tags": []
   },
   "outputs": [
    {
     "name": "stderr",
     "output_type": "stream",
     "text": [
      "\u001b[34m\u001b[1mwandb\u001b[0m: \u001b[33mWARNING\u001b[0m If you're specifying your api key in code, ensure this code is not shared publicly.\n",
      "\u001b[34m\u001b[1mwandb\u001b[0m: \u001b[33mWARNING\u001b[0m Consider setting the WANDB_API_KEY environment variable, or running `wandb login` from the command line.\n",
      "\u001b[34m\u001b[1mwandb\u001b[0m: Appending key for api.wandb.ai to your netrc file: /root/.netrc\n",
      "\u001b[34m\u001b[1mwandb\u001b[0m: Currently logged in as: \u001b[33mmegh_m\u001b[0m (\u001b[33mmegh_m-iit-madras\u001b[0m) to \u001b[32mhttps://api.wandb.ai\u001b[0m. Use \u001b[1m`wandb login --relogin`\u001b[0m to force relogin\n"
     ]
    },
    {
     "data": {
      "text/plain": [
       "True"
      ]
     },
     "execution_count": 1,
     "metadata": {},
     "output_type": "execute_result"
    }
   ],
   "source": [
    "import wandb\n",
    "wandb.login(key = \"eb9574fa5b11da36782604ea27df8bf1989ddefd\")"
   ]
  },
  {
   "cell_type": "code",
   "execution_count": 2,
   "id": "6c418d67",
   "metadata": {
    "execution": {
     "iopub.execute_input": "2025-05-03T14:25:16.758329Z",
     "iopub.status.busy": "2025-05-03T14:25:16.758012Z",
     "iopub.status.idle": "2025-05-03T14:25:16.763225Z",
     "shell.execute_reply": "2025-05-03T14:25:16.762294Z"
    },
    "papermill": {
     "duration": 0.009656,
     "end_time": "2025-05-03T14:25:16.764547",
     "exception": false,
     "start_time": "2025-05-03T14:25:16.754891",
     "status": "completed"
    },
    "tags": []
   },
   "outputs": [],
   "source": [
    "import os\n",
    "os.environ[\"WANDB_SILENT\"] = \"false\"\n",
    "os.environ[\"WANDB_START_METHOD\"] = \"thread\"\n",
    "os.environ[\"WANDB_API_KEY\"] = \"eb9574fa5b11da36782604ea27df8bf1989ddefd\""
   ]
  },
  {
   "cell_type": "code",
   "execution_count": 3,
   "id": "be1eaaa6",
   "metadata": {
    "execution": {
     "iopub.execute_input": "2025-05-03T14:25:16.770061Z",
     "iopub.status.busy": "2025-05-03T14:25:16.769714Z",
     "iopub.status.idle": "2025-05-03T14:25:21.618950Z",
     "shell.execute_reply": "2025-05-03T14:25:21.617849Z"
    },
    "papermill": {
     "duration": 4.853909,
     "end_time": "2025-05-03T14:25:21.620703",
     "exception": false,
     "start_time": "2025-05-03T14:25:16.766794",
     "status": "completed"
    },
    "tags": []
   },
   "outputs": [],
   "source": [
    "import numpy as np\n",
    "import torch\n",
    "import torch.nn as nn"
   ]
  },
  {
   "cell_type": "code",
   "execution_count": 4,
   "id": "ce13a5f5",
   "metadata": {
    "execution": {
     "iopub.execute_input": "2025-05-03T14:25:21.626889Z",
     "iopub.status.busy": "2025-05-03T14:25:21.626273Z",
     "iopub.status.idle": "2025-05-03T14:25:21.631985Z",
     "shell.execute_reply": "2025-05-03T14:25:21.630956Z"
    },
    "papermill": {
     "duration": 0.010486,
     "end_time": "2025-05-03T14:25:21.633613",
     "exception": false,
     "start_time": "2025-05-03T14:25:21.623127",
     "status": "completed"
    },
    "tags": []
   },
   "outputs": [],
   "source": [
    "class CharEmbed(nn.Module):\n",
    "    def __init__(self, input_dim, embed_dim):\n",
    "        super(CharEmbed, self).__init__()\n",
    "        self.embed = nn.Embedding(input_dim, embed_dim)\n",
    "    \n",
    "    def forward(self, input_seq):\n",
    "        return self.embed(input_seq)\n"
   ]
  },
  {
   "cell_type": "code",
   "execution_count": 5,
   "id": "0f65e711",
   "metadata": {
    "execution": {
     "iopub.execute_input": "2025-05-03T14:25:21.639796Z",
     "iopub.status.busy": "2025-05-03T14:25:21.639469Z",
     "iopub.status.idle": "2025-05-03T14:25:21.652259Z",
     "shell.execute_reply": "2025-05-03T14:25:21.651319Z"
    },
    "papermill": {
     "duration": 0.017874,
     "end_time": "2025-05-03T14:25:21.653837",
     "exception": false,
     "start_time": "2025-05-03T14:25:21.635963",
     "status": "completed"
    },
    "tags": []
   },
   "outputs": [],
   "source": [
    "class EncoderRNN(nn.Module):\n",
    "    def __init__(self, input_dim, embed_dim, hidden_dim, n_layers=1, \n",
    "                 cell_type='GRU', dropout=0.0, bidirectional=False):\n",
    "        super(EncoderRNN, self).__init__()\n",
    "        self.embed = nn.Embedding(input_dim, embedding_dim)\n",
    "        self.hidden_dim = hidden_dim\n",
    "        self.n_layers = n_layers\n",
    "        self.cell_type = cell_type\n",
    "        self.bidirectional = bidirectional #to allow forward and backward time step data processing\n",
    "        # Cell type options GRU, LSTM & vanilla RNN\n",
    "        if cell_type == 'GRU':\n",
    "            self.rnn = nn.GRU(embed_dim, hidden_dim, n_layers, dropout=dropout if n_layers > 1 else 0, bidirectional=bidirectional)\n",
    "        elif cell_type == 'LSTM':\n",
    "            self.rnn = nn.LSTM(embed_dim, hidden_dim, n_layers, dropout=dropout if n_layers > 1 else 0, bidirectional=bidirectional)\n",
    "        else: \n",
    "            self.rnn = nn.RNN(embed_dim, hidden_dim, n_layers, dropout=dropout if n_layers > 1 else 0, bidirectional=bidirectional)\n",
    "    \n",
    "    def forward(self, input_seq, input_lengths, hidden=None):\n",
    "        # Convert word indices to embeddings\n",
    "        embedded = self.embed(input_seq)\n",
    "        \n",
    "        # Pack padded batch of sequences for RNN module\n",
    "        packed = nn.utils.rnn.pack_padded_sequence(embedded, input_lengths)\n",
    "        \n",
    "        # Forward pass through RNN\n",
    "        outputs, hidden = self.rnn(packed, hidden)\n",
    "        \n",
    "        # Unpack padding\n",
    "        outputs, _ = nn.utils.rnn.pad_packed_sequence(outputs)\n",
    "        \n",
    "        # If bidirectional, sum bidirectional outputs, ie backward and forward\n",
    "        if self.bidirectional:\n",
    "            outputs = outputs[:, :, :self.hidden_dim] + outputs[:, :, self.hidden_dim:]\n",
    "        \n",
    "        return outputs, hidden\n",
    "\n",
    "class DecoderRNN(nn.Module): #Basically similar to the encoder, will have a softmax to predict next char\n",
    "    def __init__(self, output_dim, embed_dim, hidden_dim, n_layers=1, \n",
    "                 cell_type='GRU', dropout=0.0):\n",
    "        super(DecoderRNN, self).__init__()\n",
    "        self.embed = nn.Embedding(output_dim, embed_dim)\n",
    "        self.hidden_dim = hidden_dim\n",
    "        self.output_dim = output_dim\n",
    "        self.n_layers = n_layers\n",
    "        self.cell_type = cell_type\n",
    "        \n",
    "        if cell_type == 'GRU':\n",
    "            self.rnn = nn.GRU(embed_dim, hidden_dim, n_layers, dropout=dropout if n_layers > 1 else 0)\n",
    "        elif cell_type == 'LSTM':\n",
    "            self.rnn = nn.LSTM(embed_dim, hidden_dim, n_layers, dropout=dropout if n_layers > 1 else 0)\n",
    "        else:\n",
    "            self.rnn = nn.RNN(embed_dim, hidden_dim, n_layers, dropout=dropout if n_layers > 1 else 0)\n",
    "        \n",
    "        self.out = nn.Linear(hidden_dim, output_dim)\n",
    "        self.softmax = nn.LogSoftmax(dim=1)\n",
    "        \n",
    "    def forward(self, input, hidden):\n",
    "        # Get embedding of current input character\n",
    "        embedded = self.embed(input).unsqueeze(0)\n",
    "        \n",
    "        # Forward pass through decoder\n",
    "        output, hidden = self.rnn(embedded, hidden)\n",
    "        \n",
    "        # Predict next character probabilities\n",
    "        output = self.softmax(self.out(output.squeeze(0)))\n",
    "        \n",
    "        return output, hidden\n"
   ]
  },
  {
   "cell_type": "code",
   "execution_count": 6,
   "id": "d7fba4d8",
   "metadata": {
    "execution": {
     "iopub.execute_input": "2025-05-03T14:25:21.659669Z",
     "iopub.status.busy": "2025-05-03T14:25:21.659369Z",
     "iopub.status.idle": "2025-05-03T14:25:21.666461Z",
     "shell.execute_reply": "2025-05-03T14:25:21.665563Z"
    },
    "papermill": {
     "duration": 0.011784,
     "end_time": "2025-05-03T14:25:21.668012",
     "exception": false,
     "start_time": "2025-05-03T14:25:21.656228",
     "status": "completed"
    },
    "tags": []
   },
   "outputs": [],
   "source": [
    "class Seq2Seq(nn.Module): #Flexible enough to use different encoders other than the ones we define\n",
    "    def __init__(self, encoder, decoder, device):\n",
    "        super(Seq2Seq, self).__init__()\n",
    "        self.encoder = encoder\n",
    "        self.decoder = decoder\n",
    "        self.device = device\n",
    "        \n",
    "    def forward(self, src, src_len, trg, teacher_forcing_ratio=0.5):\n",
    "        batch_size = src.shape[1]\n",
    "        trg_len = trg.shape[0]\n",
    "        trg_vocab_size = self.decoder.output_dim\n",
    "        \n",
    "        # Tensor to store decoder outputs\n",
    "        outputs = torch.zeros(trg_len, batch_size, trg_vocab_size).to(self.device)\n",
    "        \n",
    "        # Last hidden state of the encoder\n",
    "        encoder_outputs, hidden = self.encoder(src, src_len)\n",
    "        \n",
    "        # First input to the decoder is the <go> token\n",
    "        input = trg[0,:]\n",
    "        \n",
    "        for t in range(1, trg_len):\n",
    "            output, hidden = self.decoder(input, hidden)\n",
    "            outputs[t] = output\n",
    "            \n",
    "            # To Decide if we're going to use teacher forcing or not as needed\n",
    "            teacher_force = random.random() < teacher_forcing_ratio\n",
    "            \n",
    "            # Get the highest predicted token from our predictions\n",
    "            top1 = output.argmax(1)\n",
    "            \n",
    "            # If we use teacher forcing, we have to use actual next token as next input\n",
    "            # If not, use predicted token\n",
    "            input = trg[t] if teacher_force else top1\n",
    "        \n",
    "        return outputs\n"
   ]
  }
 ],
 "metadata": {
  "kaggle": {
   "accelerator": "none",
   "dataSources": [],
   "dockerImageVersionId": 31012,
   "isGpuEnabled": false,
   "isInternetEnabled": true,
   "language": "python",
   "sourceType": "notebook"
  },
  "kernelspec": {
   "display_name": "Python 3",
   "language": "python",
   "name": "python3"
  },
  "language_info": {
   "codemirror_mode": {
    "name": "ipython",
    "version": 3
   },
   "file_extension": ".py",
   "mimetype": "text/x-python",
   "name": "python",
   "nbconvert_exporter": "python",
   "pygments_lexer": "ipython3",
   "version": "3.11.11"
  },
  "papermill": {
   "default_parameters": {},
   "duration": 16.163083,
   "end_time": "2025-05-03T14:25:24.375709",
   "environment_variables": {},
   "exception": null,
   "input_path": "__notebook__.ipynb",
   "output_path": "__notebook__.ipynb",
   "parameters": {},
   "start_time": "2025-05-03T14:25:08.212626",
   "version": "2.6.0"
  }
 },
 "nbformat": 4,
 "nbformat_minor": 5
}
