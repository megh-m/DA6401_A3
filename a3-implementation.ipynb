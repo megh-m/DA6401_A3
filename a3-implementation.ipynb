{
 "cells": [
  {
   "cell_type": "code",
   "execution_count": 1,
   "id": "afbfb7d4",
   "metadata": {
    "execution": {
     "iopub.execute_input": "2025-04-28T10:02:18.671764Z",
     "iopub.status.busy": "2025-04-28T10:02:18.670886Z",
     "iopub.status.idle": "2025-04-28T10:02:21.925665Z",
     "shell.execute_reply": "2025-04-28T10:02:21.924826Z"
    },
    "papermill": {
     "duration": 3.259207,
     "end_time": "2025-04-28T10:02:21.927145",
     "exception": false,
     "start_time": "2025-04-28T10:02:18.667938",
     "status": "completed"
    },
    "tags": []
   },
   "outputs": [
    {
     "name": "stderr",
     "output_type": "stream",
     "text": [
      "\u001b[34m\u001b[1mwandb\u001b[0m: \u001b[33mWARNING\u001b[0m If you're specifying your api key in code, ensure this code is not shared publicly.\n",
      "\u001b[34m\u001b[1mwandb\u001b[0m: \u001b[33mWARNING\u001b[0m Consider setting the WANDB_API_KEY environment variable, or running `wandb login` from the command line.\n",
      "\u001b[34m\u001b[1mwandb\u001b[0m: Appending key for api.wandb.ai to your netrc file: /root/.netrc\n",
      "\u001b[34m\u001b[1mwandb\u001b[0m: Currently logged in as: \u001b[33mmegh_m\u001b[0m (\u001b[33mmegh_m-iit-madras\u001b[0m) to \u001b[32mhttps://api.wandb.ai\u001b[0m. Use \u001b[1m`wandb login --relogin`\u001b[0m to force relogin\n"
     ]
    },
    {
     "data": {
      "text/plain": [
       "True"
      ]
     },
     "execution_count": 1,
     "metadata": {},
     "output_type": "execute_result"
    }
   ],
   "source": [
    "import wandb\n",
    "wandb.login(key = \"eb9574fa5b11da36782604ea27df8bf1989ddefd\")"
   ]
  },
  {
   "cell_type": "code",
   "execution_count": 2,
   "id": "5f58a2f2",
   "metadata": {
    "execution": {
     "iopub.execute_input": "2025-04-28T10:02:21.931898Z",
     "iopub.status.busy": "2025-04-28T10:02:21.931304Z",
     "iopub.status.idle": "2025-04-28T10:02:21.935161Z",
     "shell.execute_reply": "2025-04-28T10:02:21.934593Z"
    },
    "papermill": {
     "duration": 0.007282,
     "end_time": "2025-04-28T10:02:21.936316",
     "exception": false,
     "start_time": "2025-04-28T10:02:21.929034",
     "status": "completed"
    },
    "tags": []
   },
   "outputs": [],
   "source": [
    "import os\n",
    "os.environ[\"WANDB_SILENT\"] = \"false\"\n",
    "os.environ[\"WANDB_START_METHOD\"] = \"thread\"\n",
    "os.environ[\"WANDB_API_KEY\"] = \"eb9574fa5b11da36782604ea27df8bf1989ddefd\""
   ]
  }
 ],
 "metadata": {
  "kaggle": {
   "accelerator": "none",
   "dataSources": [],
   "dockerImageVersionId": 31012,
   "isGpuEnabled": false,
   "isInternetEnabled": true,
   "language": "python",
   "sourceType": "notebook"
  },
  "kernelspec": {
   "display_name": "Python 3",
   "language": "python",
   "name": "python3"
  },
  "language_info": {
   "codemirror_mode": {
    "name": "ipython",
    "version": 3
   },
   "file_extension": ".py",
   "mimetype": "text/x-python",
   "name": "python",
   "nbconvert_exporter": "python",
   "pygments_lexer": "ipython3",
   "version": "3.11.11"
  },
  "papermill": {
   "default_parameters": {},
   "duration": 8.387372,
   "end_time": "2025-04-28T10:02:22.556615",
   "environment_variables": {},
   "exception": null,
   "input_path": "__notebook__.ipynb",
   "output_path": "__notebook__.ipynb",
   "parameters": {},
   "start_time": "2025-04-28T10:02:14.169243",
   "version": "2.6.0"
  }
 },
 "nbformat": 4,
 "nbformat_minor": 5
}
