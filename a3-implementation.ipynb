{
 "cells": [
  {
   "cell_type": "code",
   "execution_count": 1,
   "id": "c18cfcc9",
   "metadata": {
    "execution": {
     "iopub.execute_input": "2025-05-01T16:43:26.775536Z",
     "iopub.status.busy": "2025-05-01T16:43:26.775192Z",
     "iopub.status.idle": "2025-05-01T16:43:30.047305Z",
     "shell.execute_reply": "2025-05-01T16:43:30.046477Z"
    },
    "papermill": {
     "duration": 3.27695,
     "end_time": "2025-05-01T16:43:30.048838",
     "exception": false,
     "start_time": "2025-05-01T16:43:26.771888",
     "status": "completed"
    },
    "tags": []
   },
   "outputs": [
    {
     "name": "stderr",
     "output_type": "stream",
     "text": [
      "\u001b[34m\u001b[1mwandb\u001b[0m: \u001b[33mWARNING\u001b[0m If you're specifying your api key in code, ensure this code is not shared publicly.\n",
      "\u001b[34m\u001b[1mwandb\u001b[0m: \u001b[33mWARNING\u001b[0m Consider setting the WANDB_API_KEY environment variable, or running `wandb login` from the command line.\n",
      "\u001b[34m\u001b[1mwandb\u001b[0m: Appending key for api.wandb.ai to your netrc file: /root/.netrc\n",
      "\u001b[34m\u001b[1mwandb\u001b[0m: Currently logged in as: \u001b[33mmegh_m\u001b[0m (\u001b[33mmegh_m-iit-madras\u001b[0m) to \u001b[32mhttps://api.wandb.ai\u001b[0m. Use \u001b[1m`wandb login --relogin`\u001b[0m to force relogin\n"
     ]
    },
    {
     "data": {
      "text/plain": [
       "True"
      ]
     },
     "execution_count": 1,
     "metadata": {},
     "output_type": "execute_result"
    }
   ],
   "source": [
    "import wandb\n",
    "wandb.login(key = \"eb9574fa5b11da36782604ea27df8bf1989ddefd\")"
   ]
  },
  {
   "cell_type": "code",
   "execution_count": 2,
   "id": "3787d8ae",
   "metadata": {
    "execution": {
     "iopub.execute_input": "2025-05-01T16:43:30.054532Z",
     "iopub.status.busy": "2025-05-01T16:43:30.054210Z",
     "iopub.status.idle": "2025-05-01T16:43:30.059032Z",
     "shell.execute_reply": "2025-05-01T16:43:30.058073Z"
    },
    "papermill": {
     "duration": 0.009602,
     "end_time": "2025-05-01T16:43:30.060806",
     "exception": false,
     "start_time": "2025-05-01T16:43:30.051204",
     "status": "completed"
    },
    "tags": []
   },
   "outputs": [],
   "source": [
    "import os\n",
    "os.environ[\"WANDB_SILENT\"] = \"false\"\n",
    "os.environ[\"WANDB_START_METHOD\"] = \"thread\"\n",
    "os.environ[\"WANDB_API_KEY\"] = \"eb9574fa5b11da36782604ea27df8bf1989ddefd\""
   ]
  },
  {
   "cell_type": "code",
   "execution_count": 3,
   "id": "4b2962b2",
   "metadata": {
    "execution": {
     "iopub.execute_input": "2025-05-01T16:43:30.066055Z",
     "iopub.status.busy": "2025-05-01T16:43:30.065756Z",
     "iopub.status.idle": "2025-05-01T16:43:34.862171Z",
     "shell.execute_reply": "2025-05-01T16:43:34.861334Z"
    },
    "papermill": {
     "duration": 4.80102,
     "end_time": "2025-05-01T16:43:34.863913",
     "exception": false,
     "start_time": "2025-05-01T16:43:30.062893",
     "status": "completed"
    },
    "tags": []
   },
   "outputs": [],
   "source": [
    "import numpy as np\n",
    "import torch\n",
    "import torch.nn as nn"
   ]
  },
  {
   "cell_type": "code",
   "execution_count": 4,
   "id": "4ba5bf04",
   "metadata": {
    "execution": {
     "iopub.execute_input": "2025-05-01T16:43:34.869667Z",
     "iopub.status.busy": "2025-05-01T16:43:34.868936Z",
     "iopub.status.idle": "2025-05-01T16:43:34.874156Z",
     "shell.execute_reply": "2025-05-01T16:43:34.873295Z"
    },
    "papermill": {
     "duration": 0.009562,
     "end_time": "2025-05-01T16:43:34.875609",
     "exception": false,
     "start_time": "2025-05-01T16:43:34.866047",
     "status": "completed"
    },
    "tags": []
   },
   "outputs": [],
   "source": [
    "class CharEmbed(nn.Module):\n",
    "    def __init__(self, input_dim, embed_dim):\n",
    "        super(CharEmbed, self).__init__()\n",
    "        self.embed = nn.Embedding(input_dim, embed_dim)\n",
    "    \n",
    "    def forward(self, input_seq):\n",
    "        return self.embed(input_seq)\n"
   ]
  },
  {
   "cell_type": "code",
   "execution_count": 5,
   "id": "aec8b2cd",
   "metadata": {
    "execution": {
     "iopub.execute_input": "2025-05-01T16:43:34.882318Z",
     "iopub.status.busy": "2025-05-01T16:43:34.881991Z",
     "iopub.status.idle": "2025-05-01T16:43:34.894013Z",
     "shell.execute_reply": "2025-05-01T16:43:34.893097Z"
    },
    "papermill": {
     "duration": 0.017221,
     "end_time": "2025-05-01T16:43:34.895525",
     "exception": false,
     "start_time": "2025-05-01T16:43:34.878304",
     "status": "completed"
    },
    "tags": []
   },
   "outputs": [],
   "source": [
    "class EncoderRNN(nn.Module):\n",
    "    def __init__(self, input_dim, embed_dim, hidden_dim, n_layers=1, \n",
    "                 cell_type='GRU', dropout=0.0, bidirectional=False):\n",
    "        super(EncoderRNN, self).__init__()\n",
    "        self.embed = nn.Embedding(input_dim, embedding_dim)\n",
    "        self.hidden_dim = hidden_dim\n",
    "        self.n_layers = n_layers\n",
    "        self.cell_type = cell_type\n",
    "        self.bidirectional = bidirectional #to allow forward and backward time step data processing\n",
    "        # Cell type options GRU, LSTM & vanilla RNN\n",
    "        if cell_type == 'GRU':\n",
    "            self.rnn = nn.GRU(embed_dim, hidden_dim, n_layers, dropout=dropout if n_layers > 1 else 0, bidirectional=bidirectional)\n",
    "        elif cell_type == 'LSTM':\n",
    "            self.rnn = nn.LSTM(embed_dim, hidden_dim, n_layers, dropout=dropout if n_layers > 1 else 0, bidirectional=bidirectional)\n",
    "        else: \n",
    "            self.rnn = nn.RNN(embed_dim, hidden_dim, n_layers, dropout=dropout if n_layers > 1 else 0, bidirectional=bidirectional)\n",
    "    \n",
    "    def forward(self, input_seq, input_lengths, hidden=None):\n",
    "        # Convert word indices to embeddings\n",
    "        embedded = self.embed(input_seq)\n",
    "        \n",
    "        # Pack padded batch of sequences for RNN module\n",
    "        packed = nn.utils.rnn.pack_padded_sequence(embedded, input_lengths)\n",
    "        \n",
    "        # Forward pass through RNN\n",
    "        outputs, hidden = self.rnn(packed, hidden)\n",
    "        \n",
    "        # Unpack padding\n",
    "        outputs, _ = nn.utils.rnn.pad_packed_sequence(outputs)\n",
    "        \n",
    "        # If bidirectional, sum bidirectional outputs, ie backward and forward\n",
    "        if self.bidirectional:\n",
    "            outputs = outputs[:, :, :self.hidden_dim] + outputs[:, :, self.hidden_dim:]\n",
    "        \n",
    "        return outputs, hidden\n",
    "\n",
    "class DecoderRNN(nn.Module): #Basically similar to the encoder, will have a softmax to predict next char\n",
    "    def __init__(self, output_dim, embed_dim, hidden_dim, n_layers=1, \n",
    "                 cell_type='GRU', dropout=0.0):\n",
    "        super(DecoderRNN, self).__init__()\n",
    "        self.embed = nn.Embedding(output_dim, embed_dim)\n",
    "        self.hidden_dim = hidden_dim\n",
    "        self.output_dim = output_dim\n",
    "        self.n_layers = n_layers\n",
    "        self.cell_type = cell_type\n",
    "        \n",
    "        if cell_type == 'GRU':\n",
    "            self.rnn = nn.GRU(embed_dim, hidden_dim, n_layers, dropout=dropout if n_layers > 1 else 0)\n",
    "        elif cell_type == 'LSTM':\n",
    "            self.rnn = nn.LSTM(embed_dim, hidden_dim, n_layers, dropout=dropout if n_layers > 1 else 0)\n",
    "        else:\n",
    "            self.rnn = nn.RNN(embed_dim, hidden_dim, n_layers, dropout=dropout if n_layers > 1 else 0)\n",
    "        \n",
    "        self.out = nn.Linear(hidden_dim, output_dim)\n",
    "        self.softmax = nn.LogSoftmax(dim=1)\n",
    "        \n",
    "    def forward(self, input, hidden):\n",
    "        # Get embedding of current input character\n",
    "        embedded = self.embed(input).unsqueeze(0)\n",
    "        \n",
    "        # Forward pass through decoder\n",
    "        output, hidden = self.rnn(embedded, hidden)\n",
    "        \n",
    "        # Predict next character probabilities\n",
    "        output = self.softmax(self.out(output.squeeze(0)))\n",
    "        \n",
    "        return output, hidden\n"
   ]
  }
 ],
 "metadata": {
  "kaggle": {
   "accelerator": "none",
   "dataSources": [],
   "dockerImageVersionId": 31012,
   "isGpuEnabled": false,
   "isInternetEnabled": true,
   "language": "python",
   "sourceType": "notebook"
  },
  "kernelspec": {
   "display_name": "Python 3",
   "language": "python",
   "name": "python3"
  },
  "language_info": {
   "codemirror_mode": {
    "name": "ipython",
    "version": 3
   },
   "file_extension": ".py",
   "mimetype": "text/x-python",
   "name": "python",
   "nbconvert_exporter": "python",
   "pygments_lexer": "ipython3",
   "version": "3.11.11"
  },
  "papermill": {
   "default_parameters": {},
   "duration": 16.164752,
   "end_time": "2025-05-01T16:43:38.212328",
   "environment_variables": {},
   "exception": null,
   "input_path": "__notebook__.ipynb",
   "output_path": "__notebook__.ipynb",
   "parameters": {},
   "start_time": "2025-05-01T16:43:22.047576",
   "version": "2.6.0"
  }
 },
 "nbformat": 4,
 "nbformat_minor": 5
}
